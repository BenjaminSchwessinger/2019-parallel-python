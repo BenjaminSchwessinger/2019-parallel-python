{
 "cells": [
  {
   "cell_type": "markdown",
   "metadata": {
    "slideshow": {
     "slide_type": "slide"
    }
   },
   "source": [
    "# Parallelism in Python\n",
    "\n",
    "### John Kirkham"
   ]
  },
  {
   "cell_type": "markdown",
   "metadata": {
    "slideshow": {
     "slide_type": "slide"
    }
   },
   "source": [
    "# The Problem\n",
    "\n",
    "* Typical threading models are hard for (new) users to understand\n",
    "* Easy to run into difficult to debug scenarios (e.g. deadlocking, race conditions, etc.)\n",
    "* Implementation often becomes tied to a certain scale (e.g. multithreaded code -> cluster parallelized code)\n",
    "* How could this be done better?"
   ]
  },
  {
   "cell_type": "markdown",
   "metadata": {
    "slideshow": {
     "slide_type": "slide"
    }
   },
   "source": [
    "# Task-based parallelism\n",
    "\n",
    "* Describe the pieces of the computation\n",
    "* Relate these pieces to each other\n",
    "* Use a scheduler to perform the computation"
   ]
  },
  {
   "cell_type": "markdown",
   "metadata": {
    "slideshow": {
     "slide_type": "slide"
    }
   },
   "source": [
    "# Common implementations\n",
    "\n",
    "* Dask\n",
    "* ipyparallel\n",
    "* Luigi"
   ]
  },
  {
   "cell_type": "markdown",
   "metadata": {
    "slideshow": {
     "slide_type": "slide"
    }
   },
   "source": [
    "# Introducing a Task Graph\n",
    "\n",
    "![]( images/pipeline.svg )"
   ]
  },
  {
   "cell_type": "markdown",
   "metadata": {
    "slideshow": {
     "slide_type": "slide"
    }
   },
   "source": [
    "# A short example\n",
    "\n",
    "![]( images/dask_example1.svg )"
   ]
  },
  {
   "cell_type": "markdown",
   "metadata": {
    "slideshow": {
     "slide_type": "slide"
    }
   },
   "source": [
    "# A short example"
   ]
  },
  {
   "cell_type": "code",
   "execution_count": null,
   "metadata": {},
   "outputs": [],
   "source": [
    "import dask\n",
    "\n",
    "a = [0, 1, 2, 3]\n",
    "d = {\"a\": a, \"b\": (sum, \"a\")}"
   ]
  },
  {
   "cell_type": "markdown",
   "metadata": {
    "slideshow": {
     "slide_type": "slide"
    }
   },
   "source": [
    "# A short example"
   ]
  },
  {
   "cell_type": "code",
   "execution_count": null,
   "metadata": {},
   "outputs": [],
   "source": [
    "import dask\n",
    "\n",
    "a = [0, 1, 2, 3]\n",
    "d = {\"a\": a, \"b\": (sum, \"a\")}\n",
    "\n",
    "print(dask.get(d, \"a\"))\n",
    "print(dask.get(d, \"b\"))"
   ]
  },
  {
   "cell_type": "markdown",
   "metadata": {
    "slideshow": {
     "slide_type": "slide"
    }
   },
   "source": [
    "# A short example (follow-up question)"
   ]
  },
  {
   "cell_type": "code",
   "execution_count": null,
   "metadata": {},
   "outputs": [],
   "source": [
    "import dask\n",
    "\n",
    "d = {\"b\": (sum, [0, 1, 2, 3])}\n",
    "\n",
    "dask.get(d, \"b\")"
   ]
  },
  {
   "cell_type": "markdown",
   "metadata": {
    "slideshow": {
     "slide_type": "slide"
    }
   },
   "source": [
    "# Using delayed"
   ]
  },
  {
   "cell_type": "code",
   "execution_count": null,
   "metadata": {},
   "outputs": [],
   "source": [
    "import dask\n",
    "\n",
    "a = [0, 1, 2, 3]\n",
    "\n",
    "r = dask.delayed(sum)(a)\n",
    "\n",
    "d = dict(r.__dask_graph__())\n",
    "k = next(iter(d.keys()))\n",
    "\n",
    "print(d)\n",
    "print(dask.get(d, k))\n",
    "print(r.compute())"
   ]
  },
  {
   "cell_type": "markdown",
   "metadata": {
    "slideshow": {
     "slide_type": "slide"
    }
   },
   "source": [
    "# Map (intro)\n",
    "\n",
    "![]( images/dask_map.svg )"
   ]
  },
  {
   "cell_type": "markdown",
   "metadata": {
    "slideshow": {
     "slide_type": "slide"
    }
   },
   "source": [
    "# Map (intro)"
   ]
  },
  {
   "cell_type": "code",
   "execution_count": null,
   "metadata": {},
   "outputs": [],
   "source": [
    "def my_map(func, *args):\n",
    "    for v in args:\n",
    "        yield func(v)"
   ]
  },
  {
   "cell_type": "markdown",
   "metadata": {
    "slideshow": {
     "slide_type": "slide"
    }
   },
   "source": [
    "# Map (question)"
   ]
  },
  {
   "cell_type": "code",
   "execution_count": null,
   "metadata": {},
   "outputs": [],
   "source": [
    "import pprint\n",
    "import dask\n",
    "\n",
    "@dask.delayed\n",
    "def addTwo(x):\n",
    "    return x + 2\n",
    "\n",
    "a = [0, 1, 2, 3]\n",
    "\n",
    "b = list(map(addTwo, a))\n",
    "pprint.pprint(b)\n",
    "\n",
    "dask.compute(*b)"
   ]
  },
  {
   "cell_type": "markdown",
   "metadata": {
    "slideshow": {
     "slide_type": "slide"
    }
   },
   "source": [
    "# Reduce (intro)\n",
    "\n",
    "![]( images/dask_reduce.svg )"
   ]
  },
  {
   "cell_type": "markdown",
   "metadata": {
    "slideshow": {
     "slide_type": "slide"
    }
   },
   "source": [
    "# Reduce (intro)"
   ]
  },
  {
   "cell_type": "code",
   "execution_count": null,
   "metadata": {},
   "outputs": [],
   "source": [
    "def my_reduce(func, *args):\n",
    "    r = args[0]\n",
    "    for v in args[1:]:\n",
    "        r = func(r, v)\n",
    "    return r"
   ]
  },
  {
   "cell_type": "markdown",
   "metadata": {
    "slideshow": {
     "slide_type": "slide"
    }
   },
   "source": [
    "# Reduce (question)"
   ]
  },
  {
   "cell_type": "code",
   "execution_count": null,
   "metadata": {},
   "outputs": [],
   "source": [
    "from functools import reduce\n",
    "from operator import add\n",
    "import dask\n",
    "\n",
    "add = dask.delayed(add)\n",
    "\n",
    "a = [0, 1, 2, 3]\n",
    "b = reduce(add, a)\n",
    "\n",
    "print(b)\n",
    "print(b.compute())"
   ]
  },
  {
   "cell_type": "markdown",
   "metadata": {
    "slideshow": {
     "slide_type": "slide"
    }
   },
   "source": [
    "# Reduce (follow-up question)"
   ]
  },
  {
   "cell_type": "code",
   "execution_count": null,
   "metadata": {},
   "outputs": [],
   "source": [
    "from functools import reduce\n",
    "from operator import add\n",
    "import dask\n",
    "\n",
    "add = dask.delayed(add)\n",
    "\n",
    "a = [0, 1, 2, 3]\n",
    "b = reduce(add, a)\n",
    "\n",
    "b.visualize()"
   ]
  },
  {
   "cell_type": "markdown",
   "metadata": {
    "slideshow": {
     "slide_type": "slide"
    }
   },
   "source": [
    "# Reduce (follow-up question)\n",
    "\n",
    "![]( images/dask_reduce_example.svg )"
   ]
  },
  {
   "cell_type": "markdown",
   "metadata": {
    "slideshow": {
     "slide_type": "slide"
    }
   },
   "source": [
    "# Reduce (performance)\n",
    "\n",
    "1. Where did the values go?\n",
    "2. How can we make this parallel friendly?"
   ]
  },
  {
   "cell_type": "markdown",
   "metadata": {
    "slideshow": {
     "slide_type": "slide"
    }
   },
   "source": [
    "# Reduce (performance)"
   ]
  },
  {
   "cell_type": "code",
   "execution_count": null,
   "metadata": {},
   "outputs": [],
   "source": [
    "import pprint\n",
    "from functools import reduce\n",
    "from operator import add\n",
    "import dask\n",
    "\n",
    "add = dask.delayed(add)\n",
    "\n",
    "a = [0, 1, 2, 3]\n",
    "b = reduce(add, a)\n",
    "\n",
    "pprint.pprint(dict(b.__dask_graph__()))"
   ]
  },
  {
   "cell_type": "markdown",
   "metadata": {
    "slideshow": {
     "slide_type": "slide"
    }
   },
   "source": [
    "# Reduce (performance)"
   ]
  },
  {
   "cell_type": "code",
   "execution_count": null,
   "metadata": {},
   "outputs": [],
   "source": [
    "from operator import add\n",
    "import dask\n",
    "\n",
    "add = dask.delayed(add)\n",
    "\n",
    "def reduce(func, values):\n",
    "    l = len(values)\n",
    "    if l == 1:\n",
    "        return values[0]\n",
    "    else:\n",
    "        l_half = l // 2\n",
    "        return func(reduce(func, values[:l_half]), reduce(func, values[l_half:]))\n",
    "\n",
    "a = [0, 1, 2, 3]\n",
    "b = reduce(add, a)"
   ]
  },
  {
   "cell_type": "markdown",
   "metadata": {
    "slideshow": {
     "slide_type": "slide"
    }
   },
   "source": [
    "# Reduce (follow-up question)\n",
    "\n",
    "![]( images/dask_reduce_tree.svg )"
   ]
  },
  {
   "cell_type": "markdown",
   "metadata": {
    "slideshow": {
     "slide_type": "slide"
    }
   },
   "source": [
    "# Using Map and Reduce (problem)\n",
    "\n",
    "1. Write a function to compute a weighted mean.\n",
    "\n",
    "2. Try it on a list of values and weights.\n",
    "\n",
    "   1. Inspect the graph it creates.\n",
    "\n",
    "   2. Compute the result.\n",
    "\n",
    "3. Does it seem to be the optimal solution? Why or why not?"
   ]
  },
  {
   "cell_type": "markdown",
   "metadata": {
    "slideshow": {
     "slide_type": "slide"
    }
   },
   "source": [
    "# Using Map and Reduce (answer)"
   ]
  },
  {
   "cell_type": "code",
   "execution_count": null,
   "metadata": {},
   "outputs": [],
   "source": [
    "from __future__ import division\n",
    "from operator import add, mul\n",
    "import dask\n",
    "\n",
    "add = dask.delayed(add)\n",
    "mul = dask.delayed(mul)\n",
    "\n",
    "def reduce(func, values):\n",
    "    l = len(values)\n",
    "    if l == 1:\n",
    "        return values[0]\n",
    "    else:\n",
    "        l_half = l // 2\n",
    "        return func(reduce(func, values[:l_half]), reduce(func, values[l_half:]))\n",
    "\n",
    "def weighted_mean(values, weights):\n",
    "    return reduce(add, list(map(mul, weights, values))) / reduce(add, weights)"
   ]
  },
  {
   "cell_type": "markdown",
   "metadata": {
    "slideshow": {
     "slide_type": "slide"
    }
   },
   "source": [
    "# Using Map and Reduce (answer)"
   ]
  },
  {
   "cell_type": "code",
   "execution_count": null,
   "metadata": {},
   "outputs": [],
   "source": [
    "v = [0, 1, 2, 3]\n",
    "w = [5, 10, 33, 16]\n",
    "\n",
    "wm = weighted_mean(v, w)\n",
    "\n",
    "print(wm.compute())\n",
    "\n",
    "wm.visualize()"
   ]
  },
  {
   "cell_type": "markdown",
   "metadata": {
    "slideshow": {
     "slide_type": "slide"
    }
   },
   "source": [
    "# Using Map and Reduce (answer)\n",
    "\n",
    "![]( images/dask_delayed_weighted_mean.svg )"
   ]
  },
  {
   "cell_type": "markdown",
   "metadata": {
    "slideshow": {
     "slide_type": "slide"
    }
   },
   "source": [
    "# Using Dask Array"
   ]
  },
  {
   "cell_type": "code",
   "execution_count": null,
   "metadata": {
    "slideshow": {
     "slide_type": "subslide"
    }
   },
   "outputs": [],
   "source": [
    "import numpy as np\n",
    "\n",
    "a1 = np.arange(4)\n",
    "a2 = np.array([0.3, 0.2, 0.4, 0.1])\n",
    "\n",
    "a1 * a2"
   ]
  },
  {
   "cell_type": "code",
   "execution_count": null,
   "metadata": {
    "slideshow": {
     "slide_type": "subslide"
    }
   },
   "outputs": [],
   "source": [
    "import numpy as np\n",
    "import dask.array as da\n",
    "\n",
    "d1 = da.arange(4, chunks=1)\n",
    "d2 = da.from_array(np.array([0.3, 0.2, 0.4, 0.1]), chunks=1)\n",
    "\n",
    "d1 * d2"
   ]
  },
  {
   "cell_type": "markdown",
   "metadata": {
    "slideshow": {
     "slide_type": "slide"
    }
   },
   "source": [
    "# Using Dask Array"
   ]
  },
  {
   "cell_type": "markdown",
   "metadata": {
    "slideshow": {
     "slide_type": "slide"
    }
   },
   "source": [
    "# Weighted Mean with Dask Arrays (problem)\n",
    "\n",
    "1. Write a function to compute a weighted mean.\n",
    "\n",
    "2. Try it on a list of values and weights.\n",
    "\n",
    "   1. Inspect the graph it creates.\n",
    "\n",
    "   2. Compute the result.\n",
    "\n",
    "3. Does it seem to be the optimal solution? Why or why not?\n",
    "\n",
    "4. How does this compare to your Dask Delayed solution?"
   ]
  },
  {
   "cell_type": "markdown",
   "metadata": {
    "slideshow": {
     "slide_type": "slide"
    }
   },
   "source": [
    "# Weighted Mean with Dask Arrays (answer)"
   ]
  },
  {
   "cell_type": "code",
   "execution_count": null,
   "metadata": {},
   "outputs": [],
   "source": [
    "import dask.array as da\n",
    "\n",
    "def weighted_mean(values, weights):\n",
    "    return (values * weights).sum() / weights.sum()\n",
    "\n",
    "v = da.from_array([0, 1, 2, 3], chunks=1)\n",
    "w = da.from_array([5, 10, 33, 16], chunks=1)\n",
    "\n",
    "wm = weighted_mean(v, w)\n",
    "\n",
    "print(wm.compute())\n",
    "\n",
    "wm.visualize()"
   ]
  },
  {
   "cell_type": "markdown",
   "metadata": {
    "slideshow": {
     "slide_type": "slide"
    }
   },
   "source": [
    "# Weighted Mean with Dask Arrays (answer)\n",
    "\n",
    "![]( images/dask_array_weighted_mean.svg )"
   ]
  },
  {
   "cell_type": "code",
   "execution_count": null,
   "metadata": {},
   "outputs": [],
   "source": []
  }
 ],
 "metadata": {
  "celltoolbar": "Slideshow",
  "kernelspec": {
   "display_name": "Python 3",
   "language": "python",
   "name": "python3"
  },
  "language_info": {
   "codemirror_mode": {
    "name": "ipython",
    "version": 3
   },
   "file_extension": ".py",
   "mimetype": "text/x-python",
   "name": "python",
   "nbconvert_exporter": "python",
   "pygments_lexer": "ipython3",
   "version": "3.6.7"
  }
 },
 "nbformat": 4,
 "nbformat_minor": 1
}
