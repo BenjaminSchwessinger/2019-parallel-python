{
 "cells": [
  {
   "cell_type": "markdown",
   "metadata": {
    "slideshow": {
     "slide_type": "slide"
    }
   },
   "source": [
    "# Parallelism in Python\n",
    "\n",
    "### John Kirkham"
   ]
  },
  {
   "cell_type": "markdown",
   "metadata": {
    "slideshow": {
     "slide_type": "slide"
    }
   },
   "source": [
    "# The Problem\n",
    "\n",
    "* Typical threading models are hard for (new) users to understand\n",
    "* Easy to run into difficult to debug scenarios (e.g. deadlocking, race conditions, etc.)\n",
    "* Implementation often becomes tied to a certain scale (e.g. multithreaded code -> cluster parallelized code)\n",
    "* How could this be done better?"
   ]
  },
  {
   "cell_type": "markdown",
   "metadata": {
    "slideshow": {
     "slide_type": "slide"
    }
   },
   "source": [
    "# Task-based parallelism\n",
    "\n",
    "* Describe the pieces of the computation\n",
    "* Relate these pieces to each other\n",
    "* Use a scheduler to perform the computation"
   ]
  },
  {
   "cell_type": "markdown",
   "metadata": {
    "slideshow": {
     "slide_type": "slide"
    }
   },
   "source": [
    "# Common implementations\n",
    "\n",
    "* Dask\n",
    "* ipyparallel\n",
    "* Luigi"
   ]
  },
  {
   "cell_type": "markdown",
   "metadata": {
    "slideshow": {
     "slide_type": "slide"
    }
   },
   "source": [
    "# Dask - Introducing a Task Graph\n",
    "\n",
    "![]( images/pipeline.svg )"
   ]
  },
  {
   "cell_type": "markdown",
   "metadata": {
    "slideshow": {
     "slide_type": "slide"
    }
   },
   "source": [
    "# Dask - A short example\n",
    "\n",
    "![]( images/dask_example1.svg )"
   ]
  },
  {
   "cell_type": "markdown",
   "metadata": {
    "slideshow": {
     "slide_type": "slide"
    }
   },
   "source": [
    "# Dask - A short example\n",
    "\n",
    "\n",
    "```python\n",
    "In [1]: import dask\n",
    "\n",
    "In [2]: a = [0, 1, 2, 3]\n",
    "\n",
    "In [3]: d = {\"a\": a, \"b\": (sum, \"a\")}\n",
    "```"
   ]
  },
  {
   "cell_type": "markdown",
   "metadata": {
    "slideshow": {
     "slide_type": "slide"
    }
   },
   "source": [
    "# Dask - A short example (question)\n",
    "\n",
    "\n",
    "```python\n",
    "In [1]: import dask\n",
    "\n",
    "In [2]: a = [0, 1, 2, 3]\n",
    "\n",
    "In [3]: d = {\"a\": a, \"b\": (sum, \"a\")}\n",
    "\n",
    "In [4]: dask.get(d, \"a\")\n",
    "Out[4]: ?\n",
    "\n",
    "In [5]: dask.get(d, \"b\")\n",
    "Out[5]: ?\n",
    "```"
   ]
  },
  {
   "cell_type": "markdown",
   "metadata": {
    "slideshow": {
     "slide_type": "slide"
    }
   },
   "source": [
    "# Dask - A short example (answer)\n",
    "\n",
    "\n",
    "```python\n",
    "In [1]: import dask\n",
    "\n",
    "In [2]: a = [0, 1, 2, 3]\n",
    "\n",
    "In [3]: d = {\"a\": a, \"b\": (sum, \"a\")}\n",
    "\n",
    "In [4]: dask.get(d, \"a\")\n",
    "Out[4]: [0, 1, 2, 3]\n",
    "\n",
    "In [5]: dask.get(d, \"b\")\n",
    "Out[5]: 6\n",
    "```"
   ]
  },
  {
   "cell_type": "markdown",
   "metadata": {
    "slideshow": {
     "slide_type": "slide"
    }
   },
   "source": [
    "# Dask - Using delayed (question)\n",
    "\n",
    "\n",
    "```python\n",
    "In [1]: import dask\n",
    "\n",
    "In [2]: a = [0, 1, 2, 3]\n",
    "\n",
    "In [3]: r = dask.delayed(sum)(a)\n",
    "\n",
    "In [4]: d = dict(r.__dask_graph__())\n",
    "\n",
    "In [5]: d\n",
    "Out[5]: {'sum-11e9df38-2121-41a5-b9be-f4e83318ac72': (<function sum(iterable, start=0, /)>, [0, 1, 2, 3])}\n",
    "\n",
    "In [6]: dask.get(d, \"sum-11e9df38-2121-41a5-b9be-f4e83318ac72\")\n",
    "Out[6]: ?\n",
    "\n",
    "In [7]: r.compute()\n",
    "Out[7]: ?\n",
    "```"
   ]
  },
  {
   "cell_type": "markdown",
   "metadata": {
    "slideshow": {
     "slide_type": "slide"
    }
   },
   "source": [
    "# Dask - Using delayed (answer)\n",
    "\n",
    "\n",
    "```python\n",
    "In [1]: import dask\n",
    "\n",
    "In [2]: a = [0, 1, 2, 3]\n",
    "\n",
    "In [3]: r = dask.delayed(sum)(a)\n",
    "\n",
    "In [4]: d = dict(r.__dask_graph__())\n",
    "\n",
    "In [5]: d\n",
    "Out[5]: {'sum-11e9df38-2121-41a5-b9be-f4e83318ac72': (<function sum(iterable, start=0, /)>, [0, 1, 2, 3])}\n",
    "\n",
    "In [6]: dask.get(d, \"sum-11e9df38-2121-41a5-b9be-f4e83318ac72\")\n",
    "Out[6]: 6\n",
    "\n",
    "In [7]: r.compute()\n",
    "Out[7]: 6\n",
    "```"
   ]
  },
  {
   "cell_type": "markdown",
   "metadata": {
    "slideshow": {
     "slide_type": "slide"
    }
   },
   "source": [
    "# Dask - Map\n",
    "\n",
    "![]( images/dask_map.svg )"
   ]
  },
  {
   "cell_type": "markdown",
   "metadata": {
    "slideshow": {
     "slide_type": "slide"
    }
   },
   "source": [
    "# Dask - Map (question)\n",
    "\n",
    "\n",
    "```python\n",
    "In [1]: import dask\n",
    "\n",
    "In [2]: @dask.delayed\n",
    "   ...: def addTwo(x):\n",
    "   ...:     return x + 2\n",
    "   ...:\n",
    "\n",
    "In [3]: a = [0, 1, 2, 3]\n",
    "\n",
    "In [4]: b = list(map(addTwo, a))\n",
    "\n",
    "In [5]: b\n",
    "Out[5]: ?\n",
    "\n",
    "In [6]: dask.compute(*b)\n",
    "Out[6]: ?\n",
    "```"
   ]
  },
  {
   "cell_type": "markdown",
   "metadata": {
    "slideshow": {
     "slide_type": "slide"
    }
   },
   "source": [
    "# Dask - Map (answer)\n",
    "\n",
    "\n",
    "```python\n",
    "In [1]: import dask\n",
    "\n",
    "In [2]: @dask.delayed\n",
    "   ...: def addTwo(x):\n",
    "   ...:     return x + 2\n",
    "   ...:\n",
    "\n",
    "In [3]: a = [0, 1, 2, 3]\n",
    "\n",
    "In [4]: b = list(map(addTwo, a))\n",
    "\n",
    "In [5]: b\n",
    "Out[5]:\n",
    "[Delayed('addTwo-0bec16d0-6189-42a8-9390-8768548cef33'),\n",
    " Delayed('addTwo-728c5880-4a29-401c-afe6-144f17875cf7'),\n",
    " Delayed('addTwo-c82784a4-9000-49bd-88f9-976b5b07d479'),\n",
    " Delayed('addTwo-a492a9a2-9262-4e9e-93dd-4d0d557ad50f')]\n",
    "\n",
    "In [6]: dask.compute(*b)\n",
    "Out[6]: (2, 3, 4, 5)\n",
    "```"
   ]
  },
  {
   "cell_type": "markdown",
   "metadata": {
    "slideshow": {
     "slide_type": "slide"
    }
   },
   "source": [
    "# Dask - Reduce\n",
    "\n",
    "![]( images/dask_reduce.svg )"
   ]
  },
  {
   "cell_type": "markdown",
   "metadata": {
    "slideshow": {
     "slide_type": "slide"
    }
   },
   "source": [
    "# Dask - Reduce (question)\n",
    "\n",
    "\n",
    "```python\n",
    "In [1]: from functools import reduce\n",
    "\n",
    "In [2]: import dask\n",
    "\n",
    "In [3]: @dask.delayed\n",
    "   ...: def add(x, y):\n",
    "   ...:     return x + y\n",
    "   ...:\n",
    "\n",
    "In [4]: a = [0, 1, 2, 3]\n",
    "\n",
    "In [5]: b = reduce(add, a)\n",
    "\n",
    "In [6]: b\n",
    "Out[6]: ?\n",
    "\n",
    "In [7]: b.compute()\n",
    "Out[7]: ?\n",
    "```"
   ]
  },
  {
   "cell_type": "markdown",
   "metadata": {
    "slideshow": {
     "slide_type": "slide"
    }
   },
   "source": [
    "# Dask - Reduce (answer)\n",
    "\n",
    "\n",
    "```python\n",
    "In [1]: from functools import reduce\n",
    "\n",
    "In [2]: import dask\n",
    "\n",
    "In [3]: @dask.delayed\n",
    "   ...: def add(x, y):\n",
    "   ...:     return x + y\n",
    "   ...:\n",
    "\n",
    "In [4]: a = [0, 1, 2, 3]\n",
    "\n",
    "In [5]: b = reduce(add, a)\n",
    "\n",
    "In [6]: b\n",
    "Out[6]: Delayed('add-91c483ed-2953-4795-b572-5d61455aaace')\n",
    "\n",
    "In [7]: b.compute()\n",
    "Out[7]: 6\n",
    "```"
   ]
  },
  {
   "cell_type": "code",
   "execution_count": null,
   "metadata": {},
   "outputs": [],
   "source": []
  }
 ],
 "metadata": {
  "celltoolbar": "Slideshow",
  "kernelspec": {
   "display_name": "Python 3",
   "language": "python",
   "name": "python3"
  },
  "language_info": {
   "codemirror_mode": {
    "name": "ipython",
    "version": 3
   },
   "file_extension": ".py",
   "mimetype": "text/x-python",
   "name": "python",
   "nbconvert_exporter": "python",
   "pygments_lexer": "ipython3",
   "version": "3.6.7"
  }
 },
 "nbformat": 4,
 "nbformat_minor": 1
}
