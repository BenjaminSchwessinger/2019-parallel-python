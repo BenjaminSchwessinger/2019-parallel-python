{
 "cells": [
  {
   "cell_type": "markdown",
   "metadata": {
    "slideshow": {
     "slide_type": "slide"
    }
   },
   "source": [
    "# Parallelism in Python\n",
    "\n",
    "### John Kirkham"
   ]
  },
  {
   "cell_type": "markdown",
   "metadata": {
    "slideshow": {
     "slide_type": "slide"
    }
   },
   "source": [
    "# The Problem\n",
    "\n",
    "* Typical threading models are hard for (new) users to understand\n",
    "* Easy to run into difficult to debug scenarios (e.g. deadlocking, race conditions, etc.)\n",
    "* Implementation often becomes tied to a certain scale (e.g. multithreaded code -> cluster parallelized code)\n",
    "* How could this be done better?"
   ]
  },
  {
   "cell_type": "markdown",
   "metadata": {
    "slideshow": {
     "slide_type": "slide"
    }
   },
   "source": [
    "# Task-based parallelism\n",
    "\n",
    "* Describe the pieces of the computation\n",
    "* Relate these pieces to each other\n",
    "* Use a scheduler to perform the computation"
   ]
  },
  {
   "cell_type": "markdown",
   "metadata": {
    "slideshow": {
     "slide_type": "slide"
    }
   },
   "source": [
    "# Common implementations\n",
    "\n",
    "* Dask\n",
    "* ipyparallel\n",
    "* Luigi"
   ]
  },
  {
   "cell_type": "markdown",
   "metadata": {
    "slideshow": {
     "slide_type": "slide"
    }
   },
   "source": [
    "# Dask - Introducing a Task Graph\n",
    "\n",
    "![]( images/pipeline.svg )"
   ]
  },
  {
   "cell_type": "markdown",
   "metadata": {
    "slideshow": {
     "slide_type": "slide"
    }
   },
   "source": [
    "# Dask - A short example\n",
    "\n",
    "![]( images/dask_example1.svg )"
   ]
  },
  {
   "cell_type": "markdown",
   "metadata": {
    "slideshow": {
     "slide_type": "slide"
    }
   },
   "source": [
    "# Dask - A short example\n",
    "\n",
    "\n",
    "```python\n",
    "In [1]: import dask\n",
    "\n",
    "In [2]: a = [0, 1, 2, 3, 4]\n",
    "\n",
    "In [3]: d = {\"a\": a, \"b\": (sum, \"a\")}\n",
    "```"
   ]
  },
  {
   "cell_type": "markdown",
   "metadata": {
    "slideshow": {
     "slide_type": "slide"
    }
   },
   "source": [
    "# Dask - A short example (question)\n",
    "\n",
    "\n",
    "```python\n",
    "In [1]: import dask\n",
    "\n",
    "In [2]: a = [0, 1, 2, 3, 4]\n",
    "\n",
    "In [3]: d = {\"a\": a, \"b\": (sum, \"a\")}\n",
    "\n",
    "In [4]: dask.get(d, \"a\")\n",
    "Out[4]: ?\n",
    "\n",
    "In [5]: dask.get(d, \"b\")\n",
    "Out[5]: ?\n",
    "```"
   ]
  },
  {
   "cell_type": "markdown",
   "metadata": {
    "slideshow": {
     "slide_type": "slide"
    }
   },
   "source": [
    "# Dask - A short example (answer)\n",
    "\n",
    "\n",
    "```python\n",
    "In [1]: import dask\n",
    "\n",
    "In [2]: a = [0, 1, 2, 3, 4]\n",
    "\n",
    "In [3]: d = {\"a\": a, \"b\": (sum, \"a\")}\n",
    "\n",
    "In [4]: dask.get(d, \"a\")\n",
    "Out[4]: [0, 1, 2, 3, 4]\n",
    "\n",
    "In [5]: dask.get(d, \"b\")\n",
    "Out[5]: 10\n",
    "```"
   ]
  },
  {
   "cell_type": "markdown",
   "metadata": {
    "slideshow": {
     "slide_type": "slide"
    }
   },
   "source": [
    "# Dask - Map\n",
    "\n",
    "![]( images/dask_map.svg )"
   ]
  },
  {
   "cell_type": "markdown",
   "metadata": {
    "slideshow": {
     "slide_type": "slide"
    }
   },
   "source": [
    "# Dask - Map\n",
    "\n",
    "\n",
    "```python\n",
    "In [1]: import dask\n",
    "\n",
    "In [2]: import operator as op\n",
    "\n",
    "In [3]: a0 = 0; a1 = 1\n",
    "\n",
    "In [4]: d = {\"a0\": a0, \"a1\": a1, \"b0\": (op.add, \"a0\", 2), \"b1\": (op.add, \"a1\", 2)}\n",
    "\n",
    "In [5]: dask.get(d, \"b0\")\n",
    "Out[5]: ?\n",
    "\n",
    "In [6]: dask.get(d, [\"b0\", \"b1\"])\n",
    "Out[6]: ?\n",
    "```"
   ]
  },
  {
   "cell_type": "markdown",
   "metadata": {
    "slideshow": {
     "slide_type": "slide"
    }
   },
   "source": [
    "# Dask - Map\n",
    "\n",
    "\n",
    "```python\n",
    "In [1]: import dask\n",
    "\n",
    "In [2]: import operator as op\n",
    "\n",
    "In [3]: a0 = 0; a1 = 1\n",
    "\n",
    "In [4]: d = {\"a0\": a0, \"a1\": a1, \"b0\": (op.add, \"a0\", 2), \"b1\": (op.add, \"a1\", 2)}\n",
    "\n",
    "In [5]: dask.get(d, \"b0\")\n",
    "Out[5]: 2\n",
    "\n",
    "In [5]: dask.get(d, [\"b0\", \"b1\"])\n",
    "Out[5]: (2, 3)\n",
    "```"
   ]
  },
  {
   "cell_type": "markdown",
   "metadata": {
    "slideshow": {
     "slide_type": "slide"
    }
   },
   "source": [
    "# Dask - Reduce\n",
    "\n",
    "![]( images/dask_reduce.svg )"
   ]
  },
  {
   "cell_type": "code",
   "execution_count": null,
   "metadata": {},
   "outputs": [],
   "source": []
  }
 ],
 "metadata": {
  "celltoolbar": "Slideshow",
  "kernelspec": {
   "display_name": "Python 3",
   "language": "python",
   "name": "python3"
  },
  "language_info": {
   "codemirror_mode": {
    "name": "ipython",
    "version": 3
   },
   "file_extension": ".py",
   "mimetype": "text/x-python",
   "name": "python",
   "nbconvert_exporter": "python",
   "pygments_lexer": "ipython3",
   "version": "3.6.7"
  }
 },
 "nbformat": 4,
 "nbformat_minor": 1
}
