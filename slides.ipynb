{
 "cells": [
  {
   "cell_type": "markdown",
   "metadata": {
    "slideshow": {
     "slide_type": "slide"
    }
   },
   "source": [
    "# Parallelism in Python\n",
    "\n",
    "### John Kirkham"
   ]
  },
  {
   "cell_type": "markdown",
   "metadata": {
    "slideshow": {
     "slide_type": "slide"
    }
   },
   "source": [
    "# The Problem\n",
    "\n",
    "* Typical threading models are hard for (new) users to understand\n",
    "* Easy to run into difficult to debug scenarios (e.g. deadlocking, race conditions, etc.)\n",
    "* Implementation often becomes tied to a certain scale (e.g. multithreaded code -> cluster parallelized code)\n",
    "* How could this be done better?"
   ]
  },
  {
   "cell_type": "markdown",
   "metadata": {
    "slideshow": {
     "slide_type": "slide"
    }
   },
   "source": [
    "# Task-based parallelism\n",
    "\n",
    "* Describe the pieces of the computation\n",
    "* Relate these pieces to each other\n",
    "* Use a scheduler to perform the computation"
   ]
  },
  {
   "cell_type": "markdown",
   "metadata": {
    "slideshow": {
     "slide_type": "slide"
    }
   },
   "source": [
    "# Common implementations\n",
    "\n",
    "* Dask\n",
    "* ipyparallel\n",
    "* Luigi"
   ]
  },
  {
   "cell_type": "markdown",
   "metadata": {
    "slideshow": {
     "slide_type": "slide"
    }
   },
   "source": [
    "# Dask - Introducing a Task Graph\n",
    "\n",
    "![]( images/pipeline.svg )"
   ]
  },
  {
   "cell_type": "markdown",
   "metadata": {
    "slideshow": {
     "slide_type": "slide"
    }
   },
   "source": [
    "# Dask - A short example\n",
    "\n",
    "![]( images/dask_example1.svg )"
   ]
  },
  {
   "cell_type": "markdown",
   "metadata": {
    "slideshow": {
     "slide_type": "slide"
    }
   },
   "source": [
    "# Dask - A short example\n",
    "\n",
    "\n",
    "```python\n",
    "In [1]: import dask\n",
    "\n",
    "In [2]: a = [0, 1, 2, 3]\n",
    "\n",
    "In [3]: d = {\"a\": a, \"b\": (sum, \"a\")}\n",
    "```"
   ]
  },
  {
   "cell_type": "markdown",
   "metadata": {
    "slideshow": {
     "slide_type": "slide"
    }
   },
   "source": [
    "# Dask - A short example (question)\n",
    "\n",
    "\n",
    "```python\n",
    "In [1]: import dask\n",
    "\n",
    "In [2]: a = [0, 1, 2, 3]\n",
    "\n",
    "In [3]: d = {\"a\": a, \"b\": (sum, \"a\")}\n",
    "\n",
    "In [4]: dask.get(d, \"a\")\n",
    "Out[4]: ?\n",
    "\n",
    "In [5]: dask.get(d, \"b\")\n",
    "Out[5]: ?\n",
    "```"
   ]
  },
  {
   "cell_type": "markdown",
   "metadata": {
    "slideshow": {
     "slide_type": "slide"
    }
   },
   "source": [
    "# Dask - A short example (answer)\n",
    "\n",
    "\n",
    "```python\n",
    "In [1]: import dask\n",
    "\n",
    "In [2]: a = [0, 1, 2, 3]\n",
    "\n",
    "In [3]: d = {\"a\": a, \"b\": (sum, \"a\")}\n",
    "\n",
    "In [4]: dask.get(d, \"a\")\n",
    "Out[4]: [0, 1, 2, 3]\n",
    "\n",
    "In [5]: dask.get(d, \"b\")\n",
    "Out[5]: 6\n",
    "```"
   ]
  },
  {
   "cell_type": "markdown",
   "metadata": {
    "slideshow": {
     "slide_type": "slide"
    }
   },
   "source": [
    "# Dask - A short example (follow-up question)\n",
    "\n",
    "\n",
    "```python\n",
    "In [1]: import dask\n",
    "\n",
    "In [2]: d = {\"b\": (sum, [0, 1, 2, 3])}\n",
    "\n",
    "In [3]: dask.get(d, \"b\")\n",
    "Out[3]: ?\n",
    "```"
   ]
  },
  {
   "cell_type": "markdown",
   "metadata": {
    "slideshow": {
     "slide_type": "slide"
    }
   },
   "source": [
    "# Dask - A short example (follow-up answer)\n",
    "\n",
    "\n",
    "```python\n",
    "In [1]: import dask\n",
    "\n",
    "In [2]: d = {\"b\": (sum, [0, 1, 2, 3])}\n",
    "\n",
    "In [3]: dask.get(d, \"b\")\n",
    "Out[3]: 6\n",
    "```"
   ]
  },
  {
   "cell_type": "markdown",
   "metadata": {
    "slideshow": {
     "slide_type": "slide"
    }
   },
   "source": [
    "# Dask - Using delayed (question)\n",
    "\n",
    "\n",
    "```python\n",
    "In [1]: import dask\n",
    "\n",
    "In [2]: a = [0, 1, 2, 3]\n",
    "\n",
    "In [3]: r = dask.delayed(sum)(a)\n",
    "\n",
    "In [4]: d = dict(r.__dask_graph__())\n",
    "\n",
    "In [5]: d\n",
    "Out[5]: {'sum-11e9df38-2121-41a5-b9be-f4e83318ac72': (<function sum(iterable, start=0, /)>, [0, 1, 2, 3])}\n",
    "\n",
    "In [6]: dask.get(d, \"sum-11e9df38-2121-41a5-b9be-f4e83318ac72\")\n",
    "Out[6]: ?\n",
    "\n",
    "In [7]: r.compute()\n",
    "Out[7]: ?\n",
    "```"
   ]
  },
  {
   "cell_type": "markdown",
   "metadata": {
    "slideshow": {
     "slide_type": "slide"
    }
   },
   "source": [
    "# Dask - Using delayed (answer)\n",
    "\n",
    "\n",
    "```python\n",
    "In [1]: import dask\n",
    "\n",
    "In [2]: a = [0, 1, 2, 3]\n",
    "\n",
    "In [3]: r = dask.delayed(sum)(a)\n",
    "\n",
    "In [4]: d = dict(r.__dask_graph__())\n",
    "\n",
    "In [5]: d\n",
    "Out[5]: {'sum-11e9df38-2121-41a5-b9be-f4e83318ac72': (<function sum(iterable, start=0, /)>, [0, 1, 2, 3])}\n",
    "\n",
    "In [6]: dask.get(d, \"sum-11e9df38-2121-41a5-b9be-f4e83318ac72\")\n",
    "Out[6]: 6\n",
    "\n",
    "In [7]: r.compute()\n",
    "Out[7]: 6\n",
    "```"
   ]
  },
  {
   "cell_type": "markdown",
   "metadata": {
    "slideshow": {
     "slide_type": "slide"
    }
   },
   "source": [
    "# Dask - Map (intro)\n",
    "\n",
    "![]( images/dask_map.svg )"
   ]
  },
  {
   "cell_type": "markdown",
   "metadata": {
    "slideshow": {
     "slide_type": "slide"
    }
   },
   "source": [
    "# Dask - Map (intro)\n",
    "\n",
    "\n",
    "```python\n",
    "In [1]: def my_map(func, *args):\n",
    "   ...:     for v in args:\n",
    "   ...:         yield func(v)\n",
    "   ...:\n",
    "```"
   ]
  },
  {
   "cell_type": "markdown",
   "metadata": {
    "slideshow": {
     "slide_type": "slide"
    }
   },
   "source": [
    "# Dask - Map (question)\n",
    "\n",
    "\n",
    "```python\n",
    "In [1]: import dask\n",
    "\n",
    "In [2]: @dask.delayed\n",
    "   ...: def addTwo(x):\n",
    "   ...:     return x + 2\n",
    "   ...:\n",
    "\n",
    "In [3]: a = [0, 1, 2, 3]\n",
    "\n",
    "In [4]: b = list(map(addTwo, a))\n",
    "\n",
    "In [5]: b\n",
    "Out[5]: ?\n",
    "\n",
    "In [6]: dask.compute(*b)\n",
    "Out[6]: ?\n",
    "```"
   ]
  },
  {
   "cell_type": "markdown",
   "metadata": {
    "slideshow": {
     "slide_type": "slide"
    }
   },
   "source": [
    "# Dask - Map (answer)\n",
    "\n",
    "\n",
    "```python\n",
    "In [1]: import dask\n",
    "\n",
    "In [2]: @dask.delayed\n",
    "   ...: def addTwo(x):\n",
    "   ...:     return x + 2\n",
    "   ...:\n",
    "\n",
    "In [3]: a = [0, 1, 2, 3]\n",
    "\n",
    "In [4]: b = list(map(addTwo, a))\n",
    "\n",
    "In [5]: b\n",
    "Out[5]:\n",
    "[Delayed('addTwo-0bec16d0-6189-42a8-9390-8768548cef33'),\n",
    " Delayed('addTwo-728c5880-4a29-401c-afe6-144f17875cf7'),\n",
    " Delayed('addTwo-c82784a4-9000-49bd-88f9-976b5b07d479'),\n",
    " Delayed('addTwo-a492a9a2-9262-4e9e-93dd-4d0d557ad50f')]\n",
    "\n",
    "In [6]: dask.compute(*b)\n",
    "Out[6]: (2, 3, 4, 5)\n",
    "```"
   ]
  },
  {
   "cell_type": "markdown",
   "metadata": {
    "slideshow": {
     "slide_type": "slide"
    }
   },
   "source": [
    "# Dask - Reduce (intro)\n",
    "\n",
    "![]( images/dask_reduce.svg )"
   ]
  },
  {
   "cell_type": "markdown",
   "metadata": {
    "slideshow": {
     "slide_type": "slide"
    }
   },
   "source": [
    "# Dask - Reduce (question)\n",
    "\n",
    "\n",
    "```python\n",
    "In [1]: from functools import reduce\n",
    "\n",
    "In [2]: from operator import add\n",
    "\n",
    "In [3]: import dask\n",
    "\n",
    "In [4]: add = dask.delayed(add)\n",
    "\n",
    "In [5]: a = [0, 1, 2, 3]\n",
    "\n",
    "In [6]: b = reduce(add, a)\n",
    "\n",
    "In [7]: b\n",
    "Out[7]: ?\n",
    "\n",
    "In [8]: b.compute()\n",
    "Out[8]: ?\n",
    "```"
   ]
  },
  {
   "cell_type": "markdown",
   "metadata": {
    "slideshow": {
     "slide_type": "slide"
    }
   },
   "source": [
    "# Dask - Reduce (answer)\n",
    "\n",
    "\n",
    "```python\n",
    "In [1]: from functools import reduce\n",
    "\n",
    "In [2]: from operator import add\n",
    "\n",
    "In [3]: import dask\n",
    "\n",
    "In [4]: add = dask.delayed(add)\n",
    "\n",
    "In [5]: a = [0, 1, 2, 3]\n",
    "\n",
    "In [6]: b = reduce(add, a)\n",
    "\n",
    "In [7]: b\n",
    "Out[7]: Delayed('add-91c483ed-2953-4795-b572-5d61455aaace')\n",
    "\n",
    "In [8]: b.compute()\n",
    "Out[8]: 6\n",
    "```"
   ]
  },
  {
   "cell_type": "markdown",
   "metadata": {
    "slideshow": {
     "slide_type": "slide"
    }
   },
   "source": [
    "# Dask - Reduce (follow-up question)\n",
    "\n",
    "\n",
    "```python\n",
    "In [1]: from functools import reduce\n",
    "\n",
    "In [2]: from operator import add\n",
    "\n",
    "In [3]: import dask\n",
    "\n",
    "In [4]: add = dask.delayed(add)\n",
    "\n",
    "In [5]: a = [0, 1, 2, 3]\n",
    "\n",
    "In [6]: b = reduce(add, a)\n",
    "\n",
    "In [7]: b.visualize()\n",
    "Out[7]: ?\n",
    "```"
   ]
  },
  {
   "cell_type": "markdown",
   "metadata": {
    "slideshow": {
     "slide_type": "slide"
    }
   },
   "source": [
    "# Dask - Reduce (follow-up question)\n",
    "\n",
    "![]( images/dask_reduce_example.svg )"
   ]
  },
  {
   "cell_type": "markdown",
   "metadata": {
    "slideshow": {
     "slide_type": "slide"
    }
   },
   "source": [
    "# Dask - Reduce (performance)\n",
    "\n",
    "1. Where did the values go?\n",
    "2. How can we make this parallel friendly?"
   ]
  },
  {
   "cell_type": "markdown",
   "metadata": {
    "slideshow": {
     "slide_type": "slide"
    }
   },
   "source": [
    "# Dask - Reduce (performance)\n",
    "\n",
    "\n",
    "```python\n",
    "In [1]: from functools import reduce\n",
    "\n",
    "In [2]: from operator import add\n",
    "\n",
    "In [3]: import dask\n",
    "\n",
    "In [4]: add = dask.delayed(add)\n",
    "\n",
    "In [5]: a = [0, 1, 2, 3]\n",
    "\n",
    "In [6]: b = reduce(add, a)\n",
    "\n",
    "In [7]: dict(b.__dask_graph__())                                                                                                                             \n",
    "Out[7]: \n",
    "{\n",
    "    'add-e2859f48-4e09-4bbb-9ccd-8006a1e5e664': (\n",
    "        <function _operator.add>, 0, 1\n",
    "    ),\n",
    "    'add-b18a107a-b112-49ee-a244-02941b20e0b1': (\n",
    "        <function _operator.add>, 'add-e2859f48-4e09-4bbb-9ccd-8006a1e5e664', 2\n",
    "    ),\n",
    "    'add-04d0c8e9-fde4-4222-b3f3-9777a85a9049': (\n",
    "        <function _operator.add>, 'add-b18a107a-b112-49ee-a244-02941b20e0b1', 3\n",
    "    )\n",
    "}\n",
    "```"
   ]
  },
  {
   "cell_type": "markdown",
   "metadata": {
    "slideshow": {
     "slide_type": "slide"
    }
   },
   "source": [
    "# Dask - Reduce (performance)\n",
    "\n",
    "\n",
    "```python\n",
    "In [1]: from operator import add\n",
    "\n",
    "In [2]: import dask\n",
    "\n",
    "In [3]: add = dask.delayed(add)\n",
    "\n",
    "In [4]: def reduce(func, values):\n",
    "   ...:     l = len(values)\n",
    "   ...:     if l == 1:\n",
    "   ...:         return values[0]\n",
    "   ...:     else:\n",
    "   ...:         l_half = l // 2\n",
    "   ...:         return func(reduce(func, values[:l_half]), reduce(func, values[l_half:]))\n",
    "   ...:\n",
    "\n",
    "In [5]: a = [0, 1, 2, 3]\n",
    "\n",
    "In [6]: b = reduce(add, a)\n",
    "```"
   ]
  },
  {
   "cell_type": "markdown",
   "metadata": {
    "slideshow": {
     "slide_type": "slide"
    }
   },
   "source": [
    "# Dask - Reduce (follow-up question)\n",
    "\n",
    "![]( images/dask_reduce_tree.svg )"
   ]
  },
  {
   "cell_type": "markdown",
   "metadata": {
    "slideshow": {
     "slide_type": "slide"
    }
   },
   "source": [
    "# Dask - Using Map and Reduce (problem)\n",
    "\n",
    "1. Write a function to compute a weighted mean.\n",
    "\n",
    "2. Try it on a list of values and weights.\n",
    "\n",
    "   1. Inspect the graph it creates.\n",
    "\n",
    "   2. Compute the result."
   ]
  },
  {
   "cell_type": "markdown",
   "metadata": {
    "slideshow": {
     "slide_type": "slide"
    }
   },
   "source": [
    "# Dask - Using Map and Reduce (answer)\n",
    "\n",
    "\n",
    "```python\n",
    "In [1]: from __future__ import division\n",
    "\n",
    "In [2]: from operator import add, mul\n",
    "\n",
    "In [3]: import dask\n",
    "\n",
    "In [4]: add = dask.delayed(add)\n",
    "\n",
    "In [5]: def reduce(func, values):\n",
    "   ...:     l = len(values)\n",
    "   ...:     if l == 1:\n",
    "   ...:         return values[0]\n",
    "   ...:     else:\n",
    "   ...:         l_half = l // 2\n",
    "   ...:         return func(reduce(func, values[:l_half]), reduce(func, values[l_half:]))\n",
    "   ...:\n",
    "\n",
    "In [6]: def weighted_mean(values, weights):\n",
    "   ...:     return reduce(add, list(map(mul, weights, values))) / reduce(add, weights)\n",
    "   ...:\n",
    "```"
   ]
  },
  {
   "cell_type": "markdown",
   "metadata": {
    "slideshow": {
     "slide_type": "slide"
    }
   },
   "source": [
    "# Dask - Using Map and Reduce (answer)\n",
    "\n",
    "\n",
    "```python\n",
    "In [7]: v = [0, 1, 2, 3]; w = [5, 10, 33, 16]\n",
    "\n",
    "In [8]: wm = weighted_mean(v, w)\n",
    "\n",
    "In [9]: wm.compute()\n",
    "Out[9]: 1.9375\n",
    "\n",
    "In [10]: wm.visualize()\n",
    "```"
   ]
  },
  {
   "cell_type": "markdown",
   "metadata": {
    "slideshow": {
     "slide_type": "slide"
    }
   },
   "source": [
    "# Dask - Using Map and Reduce (answer)\n",
    "\n",
    "![]( images/dask_delayed_weighted_mean.svg )"
   ]
  },
  {
   "cell_type": "code",
   "execution_count": null,
   "metadata": {},
   "outputs": [],
   "source": []
  }
 ],
 "metadata": {
  "celltoolbar": "Slideshow",
  "kernelspec": {
   "display_name": "Python 3",
   "language": "python",
   "name": "python3"
  },
  "language_info": {
   "codemirror_mode": {
    "name": "ipython",
    "version": 3
   },
   "file_extension": ".py",
   "mimetype": "text/x-python",
   "name": "python",
   "nbconvert_exporter": "python",
   "pygments_lexer": "ipython3",
   "version": "3.6.7"
  }
 },
 "nbformat": 4,
 "nbformat_minor": 1
}
